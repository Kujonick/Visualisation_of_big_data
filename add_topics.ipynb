{
 "cells": [
  {
   "cell_type": "code",
   "execution_count": 1,
   "id": "0cd32621-f4fe-4022-8074-45ff563f7bf2",
   "metadata": {},
   "outputs": [],
   "source": [
    "#%pip install bertopic"
   ]
  },
  {
   "cell_type": "code",
   "execution_count": 2,
   "id": "bcbd94b4-7169-4301-8078-c4efdf90d8c3",
   "metadata": {},
   "outputs": [
    {
     "name": "stderr",
     "output_type": "stream",
     "text": [
      "2025-06-17 19:38:10.813134: I tensorflow/core/platform/cpu_feature_guard.cc:193] This TensorFlow binary is optimized with oneAPI Deep Neural Network Library (oneDNN) to use the following CPU instructions in performance-critical operations:  AVX2 FMA\n",
      "To enable them in other operations, rebuild TensorFlow with the appropriate compiler flags.\n",
      "2025-06-17 19:38:11.051851: W tensorflow/stream_executor/platform/default/dso_loader.cc:64] Could not load dynamic library 'libcudart.so.11.0'; dlerror: libcudart.so.11.0: cannot open shared object file: No such file or directory\n",
      "2025-06-17 19:38:11.051891: I tensorflow/stream_executor/cuda/cudart_stub.cc:29] Ignore above cudart dlerror if you do not have a GPU set up on your machine.\n",
      "2025-06-17 19:38:11.090134: E tensorflow/stream_executor/cuda/cuda_blas.cc:2981] Unable to register cuBLAS factory: Attempting to register factory for plugin cuBLAS when one has already been registered\n",
      "2025-06-17 19:38:12.063649: W tensorflow/stream_executor/platform/default/dso_loader.cc:64] Could not load dynamic library 'libnvinfer.so.7'; dlerror: libnvinfer.so.7: cannot open shared object file: No such file or directory\n",
      "2025-06-17 19:38:12.063768: W tensorflow/stream_executor/platform/default/dso_loader.cc:64] Could not load dynamic library 'libnvinfer_plugin.so.7'; dlerror: libnvinfer_plugin.so.7: cannot open shared object file: No such file or directory\n",
      "2025-06-17 19:38:12.063776: W tensorflow/compiler/tf2tensorrt/utils/py_utils.cc:38] TF-TRT Warning: Cannot dlopen some TensorRT libraries. If you would like to use Nvidia GPU with TensorRT, please make sure the missing libraries mentioned above are installed properly.\n"
     ]
    }
   ],
   "source": [
    "# %pip install pandas\n",
    "import pandas as pd\n",
    "import numpy as np\n",
    "from transformers import pipeline\n",
    "import torch\n",
    "from tqdm import tqdm"
   ]
  },
  {
   "cell_type": "code",
   "execution_count": 3,
   "id": "1933116a-b248-4782-9041-ade409e07a30",
   "metadata": {},
   "outputs": [],
   "source": [
    "df = pd.read_csv('data.csv', encoding='windows-1252', header=None, usecols=[2, 5])"
   ]
  },
  {
   "cell_type": "code",
   "execution_count": 26,
   "id": "ebf1bf9b-6379-44de-88b6-b4823f0de221",
   "metadata": {},
   "outputs": [
    {
     "name": "stderr",
     "output_type": "stream",
     "text": [
      "/home/wladek/.local/lib/python3.8/site-packages/dateutil/parser/_parser.py:1207: UnknownTimezoneWarning: tzname PDT identified but not understood.  Pass `tzinfos` argument in order to correctly return a timezone-aware datetime.  In a future version, this will raise an exception.\n",
      "  warnings.warn(\"tzname {tzname} identified but not understood.  \"\n"
     ]
    }
   ],
   "source": [
    "df['date'] = pd.to_datetime(df[2].astype(str))\n",
    "df = df.drop(columns=[2]).rename(columns={5: 'tweet'})"
   ]
  },
  {
   "cell_type": "code",
   "execution_count": 5,
   "id": "ed3a74a8-9b37-4ad5-8250-029affe5b1cd",
   "metadata": {},
   "outputs": [],
   "source": [
    "from transformers import AutoModelForSequenceClassification, TFAutoModelForSequenceClassification\n",
    "from transformers import AutoTokenizer\n",
    "import numpy as np\n",
    "from scipy.special import expit\n",
    "\n",
    "    \n",
    "MODEL = f\"cardiffnlp/tweet-topic-base-multilingual\"\n",
    "tokenizer = AutoTokenizer.from_pretrained(MODEL)\n",
    "\n",
    "# PT\n",
    "model = AutoModelForSequenceClassification.from_pretrained(MODEL)\n",
    "class_mapping = model.config.id2label\n",
    "\n",
    "text = \"Israeli drone strikes\"\n",
    "tokens = tokenizer(text, return_tensors='pt')\n",
    "output = model(**tokens)\n",
    "\n",
    "scores = output[0][0].detach().numpy()\n",
    "scores = expit(scores)\n",
    "predictions = (scores >= 0.5) * 1"
   ]
  },
  {
   "cell_type": "code",
   "execution_count": 6,
   "id": "0915232e-169c-4a06-bd80-e7d2cb754e82",
   "metadata": {},
   "outputs": [
    {
     "data": {
      "text/plain": [
       "'news_&_social_concern'"
      ]
     },
     "execution_count": 6,
     "metadata": {},
     "output_type": "execute_result"
    }
   ],
   "source": [
    "class_mapping[scores.argmax()]"
   ]
  },
  {
   "cell_type": "code",
   "execution_count": 4,
   "id": "fca27408",
   "metadata": {},
   "outputs": [],
   "source": [
    "import json\n",
    "\n",
    "with open(\"data/sentiment140_label_mapping.json\", \"w\", encoding=\"utf-8\") as f:\n",
    "    json.dump(class_mapping, f, ensure_ascii=False, indent=4)"
   ]
  },
  {
   "cell_type": "code",
   "execution_count": 7,
   "id": "f1453937-00e0-4ce1-94b6-89add9850074",
   "metadata": {},
   "outputs": [],
   "source": [
    "tokens = [tokenizer(i, return_tensors='pt') for i in df[5].to_list()]"
   ]
  },
  {
   "cell_type": "code",
   "execution_count": 16,
   "id": "8b0e97bb-8d1d-4082-a51b-9575a93dcf2c",
   "metadata": {},
   "outputs": [],
   "source": [
    "fe_pipeline = pipeline(\n",
    "    task=\"text-classification\",\n",
    "    model=MODEL,\n",
    "    torch_dtype=torch.float16,\n",
    "    device=0\n",
    ")"
   ]
  },
  {
   "cell_type": "code",
   "execution_count": 17,
   "id": "bb32ced6-8faf-4718-8ede-8922f79ad45c",
   "metadata": {},
   "outputs": [
    {
     "data": {
      "text/plain": [
       "[{'label': 'news_&_social_concern', 'score': 0.9805060625076294}]"
      ]
     },
     "execution_count": 17,
     "metadata": {},
     "output_type": "execute_result"
    }
   ],
   "source": [
    "fe_pipeline(\"Israeli drone strikes\")"
   ]
  },
  {
   "cell_type": "code",
   "execution_count": 21,
   "id": "5648f6c8-1a02-4e65-8bc7-bd76b83024c9",
   "metadata": {},
   "outputs": [
    {
     "data": {
      "text/plain": [
       "{'arts_&_culture': 0,\n",
       " 'business_&_entrepreneurs': 1,\n",
       " 'celebrity_&_pop_culture': 2,\n",
       " 'diaries_&_daily_life': 3,\n",
       " 'family': 4,\n",
       " 'fashion_&_style': 5,\n",
       " 'film_tv_&_video': 6,\n",
       " 'fitness_&_health': 7,\n",
       " 'food_&_dining': 8,\n",
       " 'gaming': 9,\n",
       " 'learning_&_educational': 10,\n",
       " 'music': 11,\n",
       " 'news_&_social_concern': 12,\n",
       " 'other_hobbies': 13,\n",
       " 'relationships': 14,\n",
       " 'science_&_technology': 15,\n",
       " 'sports': 16,\n",
       " 'travel_&_adventure': 17,\n",
       " 'youth_&_student_life': 18}"
      ]
     },
     "execution_count": 21,
     "metadata": {},
     "output_type": "execute_result"
    }
   ],
   "source": [
    "inverse_class_mapping = {val: key for key, val in class_mapping.items()}\n",
    "inverse_class_mapping"
   ]
  },
  {
   "cell_type": "code",
   "execution_count": 22,
   "id": "11bf237b-8ffe-47c3-859c-6b2a3779828b",
   "metadata": {},
   "outputs": [
    {
     "name": "stdout",
     "output_type": "stream",
     "text": [
      "1600000\n"
     ]
    }
   ],
   "source": [
    "output = [inverse_class_mapping[fe_pipeline(t)[0]['label']] for t in df[5]]\n",
    "print(len(output))"
   ]
  },
  {
   "cell_type": "code",
   "execution_count": 23,
   "id": "931bdf06-611f-4e7b-95c9-c19e89c72f83",
   "metadata": {},
   "outputs": [
    {
     "data": {
      "text/plain": [
       "6"
      ]
     },
     "execution_count": 23,
     "metadata": {},
     "output_type": "execute_result"
    }
   ],
   "source": [
    "output[0]"
   ]
  },
  {
   "cell_type": "code",
   "execution_count": 24,
   "id": "c62ad2af-908b-4459-9f80-44588da88990",
   "metadata": {},
   "outputs": [],
   "source": [
    "df['topic'] = output"
   ]
  },
  {
   "cell_type": "code",
   "execution_count": 31,
   "id": "192ea340-58e3-4c22-8329-28754015018e",
   "metadata": {},
   "outputs": [],
   "source": [
    "df.to_parquet('refined.parquet')"
   ]
  },
  {
   "cell_type": "code",
   "execution_count": 27,
   "id": "cecf012b-c564-4029-b77d-2e50e1ad7acd",
   "metadata": {},
   "outputs": [
    {
     "data": {
      "text/html": [
       "<div>\n",
       "<style scoped>\n",
       "    .dataframe tbody tr th:only-of-type {\n",
       "        vertical-align: middle;\n",
       "    }\n",
       "\n",
       "    .dataframe tbody tr th {\n",
       "        vertical-align: top;\n",
       "    }\n",
       "\n",
       "    .dataframe thead th {\n",
       "        text-align: right;\n",
       "    }\n",
       "</style>\n",
       "<table border=\"1\" class=\"dataframe\">\n",
       "  <thead>\n",
       "    <tr style=\"text-align: right;\">\n",
       "      <th></th>\n",
       "      <th>tweet</th>\n",
       "      <th>date</th>\n",
       "      <th>topic</th>\n",
       "    </tr>\n",
       "  </thead>\n",
       "  <tbody>\n",
       "    <tr>\n",
       "      <th>0</th>\n",
       "      <td>@switchfoot http://twitpic.com/2y1zl - Awww, t...</td>\n",
       "      <td>2009-04-06 22:19:45</td>\n",
       "      <td>6</td>\n",
       "    </tr>\n",
       "    <tr>\n",
       "      <th>1</th>\n",
       "      <td>is upset that he can't update his Facebook by ...</td>\n",
       "      <td>2009-04-06 22:19:49</td>\n",
       "      <td>3</td>\n",
       "    </tr>\n",
       "    <tr>\n",
       "      <th>2</th>\n",
       "      <td>@Kenichan I dived many times for the ball. Man...</td>\n",
       "      <td>2009-04-06 22:19:53</td>\n",
       "      <td>16</td>\n",
       "    </tr>\n",
       "    <tr>\n",
       "      <th>3</th>\n",
       "      <td>my whole body feels itchy and like its on fire</td>\n",
       "      <td>2009-04-06 22:19:57</td>\n",
       "      <td>3</td>\n",
       "    </tr>\n",
       "    <tr>\n",
       "      <th>4</th>\n",
       "      <td>@nationwideclass no, it's not behaving at all....</td>\n",
       "      <td>2009-04-06 22:19:57</td>\n",
       "      <td>3</td>\n",
       "    </tr>\n",
       "    <tr>\n",
       "      <th>...</th>\n",
       "      <td>...</td>\n",
       "      <td>...</td>\n",
       "      <td>...</td>\n",
       "    </tr>\n",
       "    <tr>\n",
       "      <th>1599995</th>\n",
       "      <td>Just woke up. Having no school is the best fee...</td>\n",
       "      <td>2009-06-16 08:40:49</td>\n",
       "      <td>3</td>\n",
       "    </tr>\n",
       "    <tr>\n",
       "      <th>1599996</th>\n",
       "      <td>TheWDB.com - Very cool to hear old Walt interv...</td>\n",
       "      <td>2009-06-16 08:40:49</td>\n",
       "      <td>6</td>\n",
       "    </tr>\n",
       "    <tr>\n",
       "      <th>1599997</th>\n",
       "      <td>Are you ready for your MoJo Makeover? Ask me f...</td>\n",
       "      <td>2009-06-16 08:40:49</td>\n",
       "      <td>5</td>\n",
       "    </tr>\n",
       "    <tr>\n",
       "      <th>1599998</th>\n",
       "      <td>Happy 38th Birthday to my boo of alll time!!! ...</td>\n",
       "      <td>2009-06-16 08:40:49</td>\n",
       "      <td>14</td>\n",
       "    </tr>\n",
       "    <tr>\n",
       "      <th>1599999</th>\n",
       "      <td>happy #charitytuesday @theNSPCC @SparksCharity...</td>\n",
       "      <td>2009-06-16 08:40:50</td>\n",
       "      <td>6</td>\n",
       "    </tr>\n",
       "  </tbody>\n",
       "</table>\n",
       "<p>1600000 rows × 3 columns</p>\n",
       "</div>"
      ],
      "text/plain": [
       "                                                     tweet  \\\n",
       "0        @switchfoot http://twitpic.com/2y1zl - Awww, t...   \n",
       "1        is upset that he can't update his Facebook by ...   \n",
       "2        @Kenichan I dived many times for the ball. Man...   \n",
       "3          my whole body feels itchy and like its on fire    \n",
       "4        @nationwideclass no, it's not behaving at all....   \n",
       "...                                                    ...   \n",
       "1599995  Just woke up. Having no school is the best fee...   \n",
       "1599996  TheWDB.com - Very cool to hear old Walt interv...   \n",
       "1599997  Are you ready for your MoJo Makeover? Ask me f...   \n",
       "1599998  Happy 38th Birthday to my boo of alll time!!! ...   \n",
       "1599999  happy #charitytuesday @theNSPCC @SparksCharity...   \n",
       "\n",
       "                       date  topic  \n",
       "0       2009-04-06 22:19:45      6  \n",
       "1       2009-04-06 22:19:49      3  \n",
       "2       2009-04-06 22:19:53     16  \n",
       "3       2009-04-06 22:19:57      3  \n",
       "4       2009-04-06 22:19:57      3  \n",
       "...                     ...    ...  \n",
       "1599995 2009-06-16 08:40:49      3  \n",
       "1599996 2009-06-16 08:40:49      6  \n",
       "1599997 2009-06-16 08:40:49      5  \n",
       "1599998 2009-06-16 08:40:49     14  \n",
       "1599999 2009-06-16 08:40:50      6  \n",
       "\n",
       "[1600000 rows x 3 columns]"
      ]
     },
     "execution_count": 27,
     "metadata": {},
     "output_type": "execute_result"
    }
   ],
   "source": [
    "df"
   ]
  },
  {
   "cell_type": "code",
   "execution_count": 30,
   "id": "47b1f916-cac7-4f39-8e23-53f889141e76",
   "metadata": {},
   "outputs": [
    {
     "data": {
      "text/plain": [
       "<Axes: >"
      ]
     },
     "execution_count": 30,
     "metadata": {},
     "output_type": "execute_result"
    },
    {
     "data": {
      "image/png": "[encoded data removed]",
      "text/plain": [
       "<Figure size 640x480 with 1 Axes>"
      ]
     },
     "metadata": {},
     "output_type": "display_data"
    }
   ],
   "source": [
    "df['topic'].hist(bins=19)"
   ]
  },
  {
   "cell_type": "code",
   "execution_count": null,
   "id": "882c1547-b6e6-4cf6-9b39-f59126071727",
   "metadata": {},
   "outputs": [],
   "source": []
  }
 ],
 "metadata": {
  "kernelspec": {
   "display_name": "wdzd_project",
   "language": "python",
   "name": "python3"
  },
  "language_info": {
   "codemirror_mode": {
    "name": "ipython",
    "version": 3
   },
   "file_extension": ".py",
   "mimetype": "text/x-python",
   "name": "python",
   "nbconvert_exporter": "python",
   "pygments_lexer": "ipython3",
   "version": "3.10.18"
  }
 },
 "nbformat": 4,
 "nbformat_minor": 5
}
